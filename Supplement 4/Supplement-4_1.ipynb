{
  "cells": [
    {
      "cell_type": "markdown",
      "metadata": {},
      "source": [
        "## Supplement 4: Classification"
      ]
    },
    {
      "cell_type": "code",
      "execution_count": 12,
      "metadata": {},
      "outputs": [],
      "source": [
        "%matplotlib inline\n",
        "import numpy as np\n",
        "import pandas as pd\n"
      ]
    },
    {
      "attachments": {},
      "cell_type": "markdown",
      "metadata": {},
      "source": [
        "### 4.1 Programming Task: Gaussian Naive-Bayes Classifier\n",
        "The Iris dataset, containing measurements of the flower parts obtained from 3 different species of the Iris plant, is provided in the file __iris.csv__. The first four columns of the dataset contain the measurement values representing input features for the model and the last column contains class labels of the plant species: Iris-setosa, Iris-versicolor, and Iris-virginica.\n",
        "The goal of this task is to implement a Gaussian Naive-Bayes classifier for the Iris dataset.\n",
        "\n",
        "i\\. What are the assumptions on the dataset required for the Gaussian Naive-Bayes model?\n",
        "\n",
        "-features are independent \n",
        "\n",
        "-covariance matrix is diagonal\n",
        "\n",
        "ii\\. Split the dataset into train and test by the 80:20 ratio.\n"
      ]
    },
    {
      "cell_type": "code",
      "execution_count": 13,
      "metadata": {},
      "outputs": [
        {
          "data": {
            "text/html": [
              "<div>\n",
              "<style scoped>\n",
              "    .dataframe tbody tr th:only-of-type {\n",
              "        vertical-align: middle;\n",
              "    }\n",
              "\n",
              "    .dataframe tbody tr th {\n",
              "        vertical-align: top;\n",
              "    }\n",
              "\n",
              "    .dataframe thead th {\n",
              "        text-align: right;\n",
              "    }\n",
              "</style>\n",
              "<table border=\"1\" class=\"dataframe\">\n",
              "  <thead>\n",
              "    <tr style=\"text-align: right;\">\n",
              "      <th></th>\n",
              "      <th>index</th>\n",
              "      <th>SepalLengthCm</th>\n",
              "      <th>SepalWidthCm</th>\n",
              "      <th>PetalLengthCm</th>\n",
              "      <th>PetalWidthCm</th>\n",
              "      <th>Species</th>\n",
              "    </tr>\n",
              "  </thead>\n",
              "  <tbody>\n",
              "    <tr>\n",
              "      <th>0</th>\n",
              "      <td>0</td>\n",
              "      <td>5.1</td>\n",
              "      <td>3.5</td>\n",
              "      <td>1.4</td>\n",
              "      <td>0.2</td>\n",
              "      <td>Iris-setosa</td>\n",
              "    </tr>\n",
              "    <tr>\n",
              "      <th>1</th>\n",
              "      <td>51</td>\n",
              "      <td>6.4</td>\n",
              "      <td>3.2</td>\n",
              "      <td>4.5</td>\n",
              "      <td>1.5</td>\n",
              "      <td>Iris-versicolor</td>\n",
              "    </tr>\n",
              "    <tr>\n",
              "      <th>2</th>\n",
              "      <td>9</td>\n",
              "      <td>4.9</td>\n",
              "      <td>3.1</td>\n",
              "      <td>1.5</td>\n",
              "      <td>0.1</td>\n",
              "      <td>Iris-setosa</td>\n",
              "    </tr>\n",
              "    <tr>\n",
              "      <th>3</th>\n",
              "      <td>149</td>\n",
              "      <td>5.9</td>\n",
              "      <td>3.0</td>\n",
              "      <td>5.1</td>\n",
              "      <td>1.8</td>\n",
              "      <td>Iris-virginica</td>\n",
              "    </tr>\n",
              "    <tr>\n",
              "      <th>4</th>\n",
              "      <td>123</td>\n",
              "      <td>6.3</td>\n",
              "      <td>2.7</td>\n",
              "      <td>4.9</td>\n",
              "      <td>1.8</td>\n",
              "      <td>Iris-virginica</td>\n",
              "    </tr>\n",
              "    <tr>\n",
              "      <th>...</th>\n",
              "      <td>...</td>\n",
              "      <td>...</td>\n",
              "      <td>...</td>\n",
              "      <td>...</td>\n",
              "      <td>...</td>\n",
              "      <td>...</td>\n",
              "    </tr>\n",
              "    <tr>\n",
              "      <th>115</th>\n",
              "      <td>40</td>\n",
              "      <td>5.0</td>\n",
              "      <td>3.5</td>\n",
              "      <td>1.3</td>\n",
              "      <td>0.3</td>\n",
              "      <td>Iris-setosa</td>\n",
              "    </tr>\n",
              "    <tr>\n",
              "      <th>116</th>\n",
              "      <td>78</td>\n",
              "      <td>6.0</td>\n",
              "      <td>2.9</td>\n",
              "      <td>4.5</td>\n",
              "      <td>1.5</td>\n",
              "      <td>Iris-versicolor</td>\n",
              "    </tr>\n",
              "    <tr>\n",
              "      <th>117</th>\n",
              "      <td>53</td>\n",
              "      <td>5.5</td>\n",
              "      <td>2.3</td>\n",
              "      <td>4.0</td>\n",
              "      <td>1.3</td>\n",
              "      <td>Iris-versicolor</td>\n",
              "    </tr>\n",
              "    <tr>\n",
              "      <th>118</th>\n",
              "      <td>72</td>\n",
              "      <td>6.3</td>\n",
              "      <td>2.5</td>\n",
              "      <td>4.9</td>\n",
              "      <td>1.5</td>\n",
              "      <td>Iris-versicolor</td>\n",
              "    </tr>\n",
              "    <tr>\n",
              "      <th>119</th>\n",
              "      <td>136</td>\n",
              "      <td>6.3</td>\n",
              "      <td>3.4</td>\n",
              "      <td>5.6</td>\n",
              "      <td>2.4</td>\n",
              "      <td>Iris-virginica</td>\n",
              "    </tr>\n",
              "  </tbody>\n",
              "</table>\n",
              "<p>120 rows × 6 columns</p>\n",
              "</div>"
            ],
            "text/plain": [
              "     index  SepalLengthCm  SepalWidthCm  PetalLengthCm  PetalWidthCm  \\\n",
              "0        0            5.1           3.5            1.4           0.2   \n",
              "1       51            6.4           3.2            4.5           1.5   \n",
              "2        9            4.9           3.1            1.5           0.1   \n",
              "3      149            5.9           3.0            5.1           1.8   \n",
              "4      123            6.3           2.7            4.9           1.8   \n",
              "..     ...            ...           ...            ...           ...   \n",
              "115     40            5.0           3.5            1.3           0.3   \n",
              "116     78            6.0           2.9            4.5           1.5   \n",
              "117     53            5.5           2.3            4.0           1.3   \n",
              "118     72            6.3           2.5            4.9           1.5   \n",
              "119    136            6.3           3.4            5.6           2.4   \n",
              "\n",
              "             Species  \n",
              "0        Iris-setosa  \n",
              "1    Iris-versicolor  \n",
              "2        Iris-setosa  \n",
              "3     Iris-virginica  \n",
              "4     Iris-virginica  \n",
              "..               ...  \n",
              "115      Iris-setosa  \n",
              "116  Iris-versicolor  \n",
              "117  Iris-versicolor  \n",
              "118  Iris-versicolor  \n",
              "119   Iris-virginica  \n",
              "\n",
              "[120 rows x 6 columns]"
            ]
          },
          "execution_count": 13,
          "metadata": {},
          "output_type": "execute_result"
        }
      ],
      "source": [
        "dataset_pd = pd.read_csv(\"iris.csv\")\n",
        "\n",
        "dataset_pd = dataset_pd.sample(frac=1).reset_index()\n",
        "\n",
        "train_pd = dataset_pd.iloc[:int(len(dataset_pd)*0.8)]\n",
        "test_pd = dataset_pd.iloc[int(len(dataset_pd)*0.8):]\n",
        "\n",
        "train_pd\n"
      ]
    },
    {
      "cell_type": "markdown",
      "metadata": {},
      "source": [
        "iii\\. Estimate the parameters of the Gaussian Naive-Bayes classifier using the train set.\n"
      ]
    },
    {
      "cell_type": "code",
      "execution_count": 14,
      "metadata": {},
      "outputs": [],
      "source": [
        "train_X = train_pd[[\"SepalLengthCm\", \"SepalWidthCm\", \"PetalLengthCm\", \"PetalWidthCm\"]].to_numpy()\n",
        "train_Y = train_pd[\"Species\"].to_numpy()\n",
        "\n",
        "species = np.unique(train_Y)\n",
        "\n",
        "\n",
        "priors = {}\n",
        "means = {}\n",
        "covs = {}"
      ]
    },
    {
      "cell_type": "code",
      "execution_count": 15,
      "metadata": {},
      "outputs": [],
      "source": [
        "\n",
        "\n",
        "for s in species:\n",
        "    X_c = train_X[train_Y == s]\n",
        "    priors[s] = X_c.shape[0] / train_X.shape[0]\n",
        "    means[s] = np.mean(X_c, axis=0)\n",
        "\n",
        "    cov = np.zeros((len(means[s]), len(means[s])))\n",
        "    for x in X_c:\n",
        "        x_m = (x-means[s]).reshape((len(x), 1))\n",
        "        cov += x_m @ x_m.T\n",
        "    cov /= len(X_c)\n",
        "    covs[s] = np.diag(np.diag(cov))\n",
        "\n"
      ]
    },
    {
      "cell_type": "markdown",
      "metadata": {},
      "source": [
        "iv\\. Using the learned parameters, predict the classes for the samples in the test set.\n"
      ]
    },
    {
      "cell_type": "code",
      "execution_count": 16,
      "metadata": {},
      "outputs": [],
      "source": [
        "test_X = test_pd[[\"SepalLengthCm\", \"SepalWidthCm\", \"PetalLengthCm\", \"PetalWidthCm\"]].to_numpy()\n",
        "test_Y = test_pd[\"Species\"].to_numpy()\n",
        "\n",
        "\n",
        "preds = []\n",
        "for i, x in enumerate(test_X):\n",
        "    species_probs = []\n",
        "    for j, s in enumerate(species):\n",
        "        x_m = (x-means[s]).reshape((len(x), 1))\n",
        "        a = np.log(priors[s]) \n",
        "        b = -1/2 * np.log(np.abs(np.linalg.det(covs[s]))) \n",
        "        c = -1/2 * x_m.T @ np.linalg.inv(covs[s]) @ x_m\n",
        "        prob = a + b +c\n",
        "        species_probs.append(prob)\n",
        "    preds.append(species[np.argmax(species_probs)])\n",
        "\n",
        "\n",
        "\n",
        "corect_predictions = preds == test_Y\n",
        "corect_predictions = corect_predictions.astype(int)"
      ]
    },
    {
      "cell_type": "markdown",
      "metadata": {},
      "source": [
        "What is the accuracy of the model on the test set?"
      ]
    },
    {
      "cell_type": "code",
      "execution_count": 17,
      "metadata": {},
      "outputs": [
        {
          "name": "stdout",
          "output_type": "stream",
          "text": [
            "Accuracy: 96.667%\n"
          ]
        }
      ],
      "source": [
        "print(\"Accuracy: {:.3f}%\".format(np.sum(corect_predictions)/len(corect_predictions)*100))\n"
      ]
    }
  ],
  "metadata": {
    "kernel_info": {
      "name": "python3"
    },
    "kernelspec": {
      "display_name": "nrf9160",
      "language": "python",
      "name": "python3"
    },
    "language_info": {
      "codemirror_mode": {
        "name": "ipython",
        "version": 3
      },
      "file_extension": ".py",
      "mimetype": "text/x-python",
      "name": "python",
      "nbconvert_exporter": "python",
      "pygments_lexer": "ipython3",
      "version": "3.9.13 | packaged by conda-forge | (main, May 27 2022, 16:50:36) [MSC v.1929 64 bit (AMD64)]"
    },
    "nteract": {
      "version": "0.15.0"
    },
    "vscode": {
      "interpreter": {
        "hash": "9cc56170df7285c54808586cc1dd3fdd16e6cf74b0083038236425cc52bd412e"
      }
    }
  },
  "nbformat": 4,
  "nbformat_minor": 2
}
