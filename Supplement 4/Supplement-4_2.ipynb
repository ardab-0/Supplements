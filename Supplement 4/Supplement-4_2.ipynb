{
  "cells": [
    {
      "cell_type": "markdown",
      "metadata": {},
      "source": [
        "## Supplement 4: Classification"
      ]
    },
    {
      "cell_type": "code",
      "execution_count": 6,
      "metadata": {},
      "outputs": [],
      "source": [
        "%matplotlib inline\n",
        "import numpy as np\n",
        "from sklearn.neighbors import KNeighborsClassifier\n",
        "import pandas as pd\n",
        "import math\n"
      ]
    },
    {
      "cell_type": "markdown",
      "metadata": {},
      "source": [
        "### 4.2 Programming Task: K-Nearest Neighbor\n",
        "The datasets in files __train-knn.csv__ and __test-knn.csv__ contain samples from a synthetic dataset for training a K-Nearest Neighbor classifier.\n",
        "The dataset consists of 7 columns: the first six columns, denoted as x1, x2, ..., x6 represent\n",
        " the input features for each data sample, and the last column represents the class label given by 0 or 1.\n",
        "There are 200 samples in the __train-knn.csv__ and 100 samples in the __test-knn.csv__}.\n",
        "\n",
        "i\\. Implement the K-Nearest Neighbor classification algorithm using NumPy and SciPy.\n",
        "\n"
      ]
    },
    {
      "cell_type": "code",
      "execution_count": 7,
      "metadata": {},
      "outputs": [],
      "source": [
        "def knn_scipy(train_X, train_y, predict_X, n_neighbors=3):\n",
        "    neigh = KNeighborsClassifier(n_neighbors=n_neighbors)\n",
        "    neigh.fit(train_X, train_y)\n",
        "    return neigh.predict(predict_X)\n",
        "\n",
        "\n",
        "\n",
        "\n",
        "def knn(train_X, train_y, predict_X, n_neighbors=3):\n",
        "\n",
        "    predictions = np.zeros((len(predict_X), 1))\n",
        "\n",
        "    for i, prediction_point in enumerate(predict_X):\n",
        "        distances = np.linalg.norm(prediction_point.reshape((1, len(prediction_point))) - train_X, axis=1)\n",
        "        sorted_indices  = np.argsort(distances)\n",
        "        k_sorted_indices = sorted_indices[:n_neighbors]\n",
        "        classes = train_y[k_sorted_indices].astype(int)\n",
        "        predictions[i] = np.bincount(classes).argmax()\n",
        "    \n",
        "    return np.squeeze(predictions)\n",
        "\n"
      ]
    },
    {
      "cell_type": "markdown",
      "metadata": {},
      "source": [
        "ii\\. Perform cross-validation (with 5 folds) on the train dataset __train-knn.csv__ to determine a suitable value of K.\n"
      ]
    },
    {
      "cell_type": "code",
      "execution_count": 8,
      "metadata": {},
      "outputs": [
        {
          "name": "stdout",
          "output_type": "stream",
          "text": [
            "Accuracy in fold:  0.7\n",
            "Accuracy in fold:  0.725\n",
            "Accuracy in fold:  0.725\n",
            "Accuracy in fold:  0.775\n",
            "Accuracy in fold:  0.675\n",
            "Average accuracy for k = 1: 0.72\n",
            "Accuracy in fold:  0.725\n",
            "Accuracy in fold:  0.8\n",
            "Accuracy in fold:  0.775\n",
            "Accuracy in fold:  0.825\n",
            "Accuracy in fold:  0.775\n",
            "Average accuracy for k = 3: 0.78\n",
            "Accuracy in fold:  0.8\n",
            "Accuracy in fold:  0.85\n",
            "Accuracy in fold:  0.725\n",
            "Accuracy in fold:  0.85\n",
            "Accuracy in fold:  0.75\n",
            "Average accuracy for k = 5: 0.795\n",
            "Accuracy in fold:  0.825\n",
            "Accuracy in fold:  0.8\n",
            "Accuracy in fold:  0.75\n",
            "Accuracy in fold:  0.8\n",
            "Accuracy in fold:  0.725\n",
            "Average accuracy for k = 7: 0.78\n"
          ]
        }
      ],
      "source": [
        "dataset_pd = pd.read_csv(\"train-knn.csv\")\n",
        "dataset_X = dataset_pd[[\"x1\",\"x2\",\"x3\",\"x4\",\"x5\",\"x6\"]].to_numpy() \n",
        "dataset_y = dataset_pd[\"class\"].to_numpy() \n",
        "\n",
        "def cross_validation(X, y, k=5):\n",
        "    N = len(X)\n",
        "    fold_len = int(N / k)\n",
        "    folds = []\n",
        "    indices = np.arange(0, N, fold_len)[1:]\n",
        "    X_parts = np.split(X, indices)\n",
        "    y_parts = np.split(y, indices)\n",
        "\n",
        "    train_folds = []\n",
        "    test_folds = []\n",
        "\n",
        "    \n",
        "    for i in range(k):\n",
        "        X_train_fold = np.concatenate(np.delete(X_parts, i, axis=0))\n",
        "        y_train_fold = np.concatenate(np.delete(y_parts, i, axis=0))\n",
        "\n",
        "        X_test_fold = X_parts[i]\n",
        "        y_test_fold = y_parts[i]\n",
        "        train_folds.append((X_train_fold, y_train_fold))\n",
        "        test_folds.append((X_test_fold, y_test_fold))\n",
        "    return zip(train_folds, test_folds)\n",
        "\n",
        "\n",
        "ks = [1, 3, 5, 7]\n",
        "\n",
        "for k in ks:\n",
        "    accuracies = []\n",
        "    for (train_X, train_y), (test_X, test_y) in cross_validation(dataset_X, dataset_y):\n",
        "        predictions = knn(train_X, train_y, test_X, k)\n",
        "        accuracy = 1 - (np.sum(np.abs(predictions - test_y)) / len(predictions))\n",
        "        print(\"Accuracy in fold: \", accuracy)\n",
        "        accuracies.append(accuracy)\n",
        "    avg_accuracy = sum(accuracies) / len(accuracies)\n",
        "    print(\"Average accuracy for k = {}: {}\".format(k, avg_accuracy))\n",
        "\n",
        "\n",
        "    \n",
        "\n"
      ]
    },
    {
      "cell_type": "markdown",
      "metadata": {},
      "source": [
        "iii\\. Using the optimal value of k from the cross-validation, obtain the accuracy of your model on the test dataset __test-knn.csv__.\n"
      ]
    },
    {
      "cell_type": "code",
      "execution_count": 9,
      "metadata": {},
      "outputs": [
        {
          "name": "stdout",
          "output_type": "stream",
          "text": [
            "Accuracy for k = 5 in test dataset : 0.78\n"
          ]
        }
      ],
      "source": [
        "test_dataset_pd = pd.read_csv(\"test-knn.csv\")\n",
        "test_dataset_X = test_dataset_pd[[\"x1\",\"x2\",\"x3\",\"x4\",\"x5\",\"x6\"]].to_numpy() \n",
        "test_dataset_y = test_dataset_pd[\"class\"].to_numpy() \n",
        "\n",
        "k = 5\n",
        "predictions = knn(dataset_X, dataset_y, test_dataset_X, k)\n",
        "accuracy = 1 - np.sum(np.abs(predictions - test_dataset_y)) / len(predictions)\n",
        "print(\"Accuracy for k = {} in test dataset : {}\".format(k, avg_accuracy))"
      ]
    },
    {
      "cell_type": "markdown",
      "metadata": {},
      "source": [
        "iv\\. Compare your result with the KNeighborsClassifier model from the scikit-learn library."
      ]
    },
    {
      "cell_type": "code",
      "execution_count": 10,
      "metadata": {},
      "outputs": [
        {
          "name": "stdout",
          "output_type": "stream",
          "text": [
            "Accuracy for k = 5 in test dataset using scikit-learn library's KNeighborsClassifier: 0.78\n"
          ]
        }
      ],
      "source": [
        "\n",
        "predictions = knn_scipy(dataset_X, dataset_y, test_dataset_X, k)\n",
        "accuracy = 1 - np.sum(np.abs(predictions - test_dataset_y)) / len(predictions)\n",
        "print(\"Accuracy for k = {} in test dataset using scikit-learn library's KNeighborsClassifier: {}\".format(k, avg_accuracy))"
      ]
    },
    {
      "cell_type": "markdown",
      "metadata": {},
      "source": [
        "v\\. How do the bias and variance of each model vary as K increases?"
      ]
    },
    {
      "cell_type": "markdown",
      "metadata": {},
      "source": [
        "As K increases variance of the model increases, whereas bias decreases."
      ]
    }
  ],
  "metadata": {
    "kernel_info": {
      "name": "python3"
    },
    "kernelspec": {
      "display_name": "Python 3.9.6 ('python_env')",
      "language": "python",
      "name": "python3"
    },
    "language_info": {
      "codemirror_mode": {
        "name": "ipython",
        "version": 3
      },
      "file_extension": ".py",
      "mimetype": "text/x-python",
      "name": "python",
      "nbconvert_exporter": "python",
      "pygments_lexer": "ipython3",
      "version": "3.9.6 (default, Aug 18 2021, 15:44:49) [MSC v.1916 64 bit (AMD64)]"
    },
    "nteract": {
      "version": "0.15.0"
    },
    "vscode": {
      "interpreter": {
        "hash": "adbe77a04a76d932345bb7bdb8702cea8988e308e9e4d2da8550c44417464104"
      }
    }
  },
  "nbformat": 4,
  "nbformat_minor": 2
}
