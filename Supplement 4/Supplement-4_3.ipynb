{
  "cells": [
    {
      "cell_type": "markdown",
      "metadata": {},
      "source": [
        "## Supplement 4: Classification"
      ]
    },
    {
      "cell_type": "code",
      "execution_count": 1,
      "metadata": {},
      "outputs": [],
      "source": [
        "%matplotlib inline\n",
        "import numpy as np\n",
        "import pandas as pd\n",
        "import matplotlib.pyplot as plt"
      ]
    },
    {
      "cell_type": "markdown",
      "metadata": {},
      "source": [
        "### 4.3 Programming Task: Song popularity prediction using Logistic regression\n",
        "The datasets __train-songs.csv__ and __test-songs.csv__ contain audio properties of various tracks collected from the music streaming site Spotify.\n",
        "\n",
        "\n",
        "The goal of the task is to train a logistic regression classifier that predicts if\n",
        "a given track is popular or not.\n",
        "The dataset consists of 9 columns.\n",
        "The first 8 columns contain various audio properties\n",
        "which are provided as input features to the model.\n",
        "The last column contains the class labels given by 0(not popular) and 1(popular).\n",
        "\n",
        "i\\. Implement the loss function and its gradient for the logistic regression model.\n",
        " "
      ]
    },
    {
      "cell_type": "code",
      "execution_count": 23,
      "metadata": {},
      "outputs": [],
      "source": [
        "\n",
        "train_dataset_pd = pd.read_csv(\"train-songs.csv\")\n",
        "train_X = train_dataset_pd[[\"danceability\",\"key\",\"loudness\",\"acousticness\",\"instrumentalness\",\"liveness\",\"valence\",\"tempo\"]].to_numpy()\n",
        "train_y = train_dataset_pd[\"popular\"].to_numpy()\n",
        "train_y = train_y.reshape((len(train_y), 1))\n",
        "\n",
        "mean = np.mean(train_X, axis=0)\n",
        "std = np.std(train_X, axis=0)\n",
        "\n",
        "train_X = (train_X - mean) / std\n",
        "\n",
        "def sigmoid(x):\n",
        "    return 1 / (1 + np.exp(-x))\n",
        "\n",
        "\n",
        "def loss(X, y, w):\n",
        "    return np.mean(-y * np.log(sigmoid(X @ w)) - (1 - y) * np.log(1 - sigmoid(X @ w)))\n",
        "\n",
        "def loss_gradient(X, y, w):\n",
        "    return np.mean((y - sigmoid( X @ w)) * X, axis=0).reshape((len(w), 1))"
      ]
    },
    {
      "cell_type": "markdown",
      "metadata": {},
      "source": [
        "   ii\\. Using the gradient descent algorithm, train the logistic regression model.\n",
        "You may reuse/modify the gradient descent algorithm from the previous supplement.\n",
        "\n",
        "\n"
      ]
    },
    {
      "cell_type": "code",
      "execution_count": 31,
      "metadata": {},
      "outputs": [
        {
          "data": {
            "text/plain": [
              "Text(0, 0.5, 'Loss')"
            ]
          },
          "execution_count": 31,
          "metadata": {},
          "output_type": "execute_result"
        },
        {
          "data": {
            "image/png": "[encoded data removed]",
            "text/plain": [
              "<Figure size 432x288 with 1 Axes>"
            ]
          },
          "metadata": {
            "needs_background": "light"
          },
          "output_type": "display_data"
        }
      ],
      "source": [
        "w = np.random.randn(len(train_X[0]), 1)\n",
        "epochs = 250\n",
        "learning_rate = 0.1\n",
        "losses = np.zeros(epochs)\n",
        "\n",
        "for i in range(epochs):\n",
        "    losses[i] = loss(train_X, train_y, w)\n",
        "    grad = loss_gradient(train_X, train_y, w)\n",
        "    w += learning_rate * grad\n",
        "\n",
        "plt.plot(losses)\n",
        "plt.title(\"Loss - Epoch\")\n",
        "plt.xlabel(\"Epoch\")\n",
        "plt.ylabel(\"Loss\")\n"
      ]
    },
    {
      "cell_type": "markdown",
      "metadata": {},
      "source": [
        "iii\\. Using model predictions on __test-songs.csv__, build the confusion\n",
        "matrix and subsequently calculate the precision, recall, and F1-score for a threshold of 0.4.\n"
      ]
    },
    {
      "cell_type": "code",
      "execution_count": 21,
      "metadata": {},
      "outputs": [],
      "source": [
        "\n",
        "\n"
      ]
    },
    {
      "cell_type": "markdown",
      "metadata": {},
      "source": [
        "iv\\. Plot the ROC curve for the model and calculate the AUC metric of your model.\n"
      ]
    },
    {
      "cell_type": "code",
      "execution_count": 20,
      "metadata": {},
      "outputs": [],
      "source": [
        "\n"
      ]
    },
    {
      "cell_type": "markdown",
      "metadata": {},
      "source": [
        "v\\. Consider the simpler models given below.The input $\\mathbf{x}$ in these models takes only 4 input features from the given dataset.\n",
        "\n",
        "- Model A $~~~~~~~~~~~$   $\\mathbf{x}$ = $[$ danceability, key, valence, tempo $]^\\top$\n",
        "- Model B $~~~~~~~~~~~$  $\\mathbf{x}$ = $[$ danceability, loudness, acousticness, instrumentalness $]^\\top$\n",
        "- Model C $~~~~~~~~~~~$ $\\mathbf{x}$ = $[$ key, liveness, valence, tempo $]^\\top$\n",
        "\n",
        "Train these models using your logistic regression implementation and determine the best performing model using the AUC metric."
      ]
    },
    {
      "cell_type": "code",
      "execution_count": null,
      "metadata": {},
      "outputs": [],
      "source": []
    }
  ],
  "metadata": {
    "kernel_info": {
      "name": "python3"
    },
    "kernelspec": {
      "display_name": "Python 3.9.7 ('hiwi')",
      "language": "python",
      "name": "python3"
    },
    "language_info": {
      "codemirror_mode": {
        "name": "ipython",
        "version": 3
      },
      "file_extension": ".py",
      "mimetype": "text/x-python",
      "name": "python",
      "nbconvert_exporter": "python",
      "pygments_lexer": "ipython3",
      "version": "3.9.7"
    },
    "nteract": {
      "version": "0.15.0"
    },
    "vscode": {
      "interpreter": {
        "hash": "19846c0218a9ea64b89a4165b9c3f03bfe541eed4f6fb8d9f61728a66344544c"
      }
    }
  },
  "nbformat": 4,
  "nbformat_minor": 2
}
