{
  "cells": [
    {
      "cell_type": "markdown",
      "metadata": {},
      "source": [
        "## Supplement 4: Classification"
      ]
    },
    {
      "cell_type": "code",
      "execution_count": 1,
      "metadata": {},
      "outputs": [],
      "source": [
        "%matplotlib inline\n",
        "import numpy as np\n",
        "import pandas as pd\n",
        "import matplotlib.pyplot as plt"
      ]
    },
    {
      "cell_type": "markdown",
      "metadata": {},
      "source": [
        "### 4.3 Programming Task: Song popularity prediction using Logistic regression\n",
        "The datasets __train-songs.csv__ and __test-songs.csv__ contain audio properties of various tracks collected from the music streaming site Spotify.\n",
        "\n",
        "\n",
        "The goal of the task is to train a logistic regression classifier that predicts if\n",
        "a given track is popular or not.\n",
        "The dataset consists of 9 columns.\n",
        "The first 8 columns contain various audio properties\n",
        "which are provided as input features to the model.\n",
        "The last column contains the class labels given by 0(not popular) and 1(popular).\n",
        "\n",
        "i\\. Implement the loss function and its gradient for the logistic regression model.\n",
        " "
      ]
    },
    {
      "cell_type": "code",
      "execution_count": 2,
      "metadata": {},
      "outputs": [],
      "source": [
        "\n",
        "train_dataset_pd = pd.read_csv(\"train-songs.csv\")\n",
        "\n",
        "def prepare_dataset(dataset_pd, cols=[\"danceability\",\"key\",\"loudness\",\"acousticness\",\"instrumentalness\",\"liveness\",\"valence\",\"tempo\"]):\n",
        "    train_X = train_dataset_pd[cols].to_numpy()\n",
        "    train_y = train_dataset_pd[\"popular\"].to_numpy()\n",
        "    train_y = train_y.reshape((len(train_y), 1))\n",
        "\n",
        "    mean = np.mean(train_X, axis=0)\n",
        "    std = np.std(train_X, axis=0)\n",
        "\n",
        "    train_X = (train_X - mean) / std\n",
        "    return train_X, train_y\n",
        "\n",
        "def sigmoid(x):\n",
        "    return 1 / (1 + np.exp(-x))\n",
        "\n",
        "\n",
        "def loss(X, y, w):\n",
        "    return np.mean(-y * np.log(sigmoid(X @ w)) - (1 - y) * np.log(1 - sigmoid(X @ w)))\n",
        "\n",
        "def loss_gradient(X, y, w):\n",
        "    return np.mean((y - sigmoid( X @ w)) * X, axis=0).reshape((len(w), 1))"
      ]
    },
    {
      "cell_type": "markdown",
      "metadata": {},
      "source": [
        "   ii\\. Using the gradient descent algorithm, train the logistic regression model.\n",
        "You may reuse/modify the gradient descent algorithm from the previous supplement.\n",
        "\n",
        "\n"
      ]
    },
    {
      "cell_type": "code",
      "execution_count": 3,
      "metadata": {},
      "outputs": [
        {
          "data": {
            "image/png": "[encoded data removed]",
            "text/plain": [
              "<Figure size 432x288 with 1 Axes>"
            ]
          },
          "metadata": {
            "needs_background": "light"
          },
          "output_type": "display_data"
        }
      ],
      "source": [
        "\n",
        "epochs = 250\n",
        "learning_rate = 0.1\n",
        "\n",
        "def fit(epochs, learning_rate, X, y):\n",
        "    losses = np.zeros(epochs)\n",
        "    w = np.random.randn(len(X[0]), 1)\n",
        "    for i in range(epochs):\n",
        "        losses[i] = loss(X, y, w)\n",
        "        grad = loss_gradient(X, y, w)\n",
        "        w += learning_rate * grad\n",
        "    return w, losses\n",
        "\n",
        "\n",
        "train_X, train_y = prepare_dataset(train_dataset_pd)\n",
        "\n",
        "trained_w, losses = fit(epochs, learning_rate, train_X, train_y)\n",
        "plt.plot(losses)\n",
        "plt.title(\"Loss - Epoch\")\n",
        "plt.xlabel(\"Epoch\")\n",
        "plt.ylabel(\"Loss\")\n",
        "\n",
        "\n",
        "def predict(X, w):\n",
        "    predictions = sigmoid(X @ w)\n",
        "    return predictions\n",
        "\n",
        "def threshold_predictions(pred, threshold):\n",
        "    predictions = pred.copy()\n",
        "    predictions[predictions >= threshold] = 1\n",
        "    predictions[predictions < threshold] = 0\n",
        "    return predictions\n"
      ]
    },
    {
      "cell_type": "markdown",
      "metadata": {},
      "source": [
        "iii\\. Using model predictions on __test-songs.csv__, build the confusion\n",
        "matrix and subsequently calculate the precision, recall, and F1-score for a threshold of 0.4.\n"
      ]
    },
    {
      "cell_type": "code",
      "execution_count": 4,
      "metadata": {},
      "outputs": [
        {
          "name": "stdout",
          "output_type": "stream",
          "text": [
            "Confusion matrix: \n",
            " [[6499 3501]\n",
            " [ 764 9236]]\n",
            "Precision:  0.7251315066342153\n",
            "Recall:  0.9236\n",
            "F1:  0.8124202841183974\n"
          ]
        }
      ],
      "source": [
        "test_dataset_pd = pd.read_csv(\"test-songs.csv\")\n",
        "test_X, test_y = prepare_dataset(train_dataset_pd)\n",
        "\n",
        "predictions = predict(test_X, trained_w)\n",
        "class_predictions = threshold_predictions(predictions, 0.4)\n",
        "\n",
        "\n",
        "def get_confusion_matrix(labels, predictions):\n",
        "    false_labels = labels < 0.5\n",
        "    true_labels = labels >= 0.5\n",
        "\n",
        "    false_predictions = predictions < 0.5\n",
        "    true_predictions = predictions >= 0.5\n",
        "\n",
        "    true_negative = np.sum(np.logical_and(false_labels, false_predictions).astype(int))\n",
        "    false_positive = np.sum(np.logical_and(false_labels, true_predictions).astype(int))\n",
        "    false_negative = np.sum(np.logical_and(true_labels, false_predictions).astype(int))\n",
        "    true_positive = np.sum(np.logical_and(true_labels, true_predictions).astype(int))\n",
        "\n",
        "    return np.array([[true_negative, false_positive], \n",
        "                    [false_negative, true_positive]])\n",
        "    \n",
        "\n",
        "confusion_mtx = get_confusion_matrix(test_y, class_predictions)\n",
        "\n",
        "precision = confusion_mtx[1,1] / (confusion_mtx[1,1] + confusion_mtx[0, 1])\n",
        "recall = confusion_mtx[1,1] / (confusion_mtx[1,1] + confusion_mtx[1, 0])\n",
        "F1 = 2 * (precision * recall) / (precision + recall)\n",
        "\n",
        "\n",
        "print(\"Confusion matrix: \\n\", confusion_mtx)\n",
        "print(\"Precision: \", precision)\n",
        "print(\"Recall: \", recall)\n",
        "print(\"F1: \", F1)\n",
        "\n",
        "\n",
        "\n"
      ]
    },
    {
      "cell_type": "markdown",
      "metadata": {},
      "source": [
        "iv\\. Plot the ROC curve for the model and calculate the AUC metric of your model.\n"
      ]
    },
    {
      "cell_type": "code",
      "execution_count": 5,
      "metadata": {},
      "outputs": [
        {
          "name": "stdout",
          "output_type": "stream",
          "text": [
            "AUC:  0.8875514250000001\n"
          ]
        },
        {
          "data": {
            "image/png": "[encoded data removed]",
            "text/plain": [
              "<Figure size 432x288 with 1 Axes>"
            ]
          },
          "metadata": {
            "needs_background": "light"
          },
          "output_type": "display_data"
        }
      ],
      "source": [
        "def calculate_integral(x, y):\n",
        "    l = y[:-1] + y[1:]\n",
        "    \n",
        "    d = np.abs(x[1:] - x[:-1])\n",
        "\n",
        "    trapezoid_areas = l * d / 2\n",
        "    area = np.sum(trapezoid_areas)\n",
        "    return area\n",
        "\n",
        "\n",
        "def compute_ROC(predictions, labels):\n",
        "    steps = 101\n",
        "    thresholds = np.linspace(0, 1, steps)\n",
        "    delta = 1 / (steps - 1)\n",
        "\n",
        "    false_positives = np.zeros_like(thresholds)\n",
        "    true_positives = np.zeros_like(thresholds)\n",
        "\n",
        "    for i, thresh in enumerate(thresholds):\n",
        "        thresholded_predictions = threshold_predictions(predictions, thresh)\n",
        "        confusion_mtx = get_confusion_matrix(labels, thresholded_predictions)\n",
        "        false_positives[i] = confusion_mtx[0, 1]\n",
        "        true_positives[i] = confusion_mtx[1, 1]\n",
        "    false_positives /= (confusion_mtx[0, 0] + confusion_mtx[0, 1])\n",
        "    true_positives /= (confusion_mtx[1, 0] + confusion_mtx[1, 1])\n",
        "\n",
        "    auc = calculate_integral(false_positives, true_positives)\n",
        "\n",
        "    return false_positives, true_positives, auc\n",
        "\n",
        "\n",
        "fp, tp, auc = compute_ROC(predictions, test_y)\n",
        "plt.plot(fp, tp)\n",
        "plt.title(\"ROC\")\n",
        "plt.xlabel(\"False Positive Rate\")\n",
        "plt.ylabel(\"True Positive Rate\")\n",
        "\n",
        "print(\"AUC: \", auc)\n"
      ]
    },
    {
      "cell_type": "markdown",
      "metadata": {},
      "source": [
        "v\\. Consider the simpler models given below.The input $\\mathbf{x}$ in these models takes only 4 input features from the given dataset.\n",
        "\n",
        "- Model A $~~~~~~~~~~~$   $\\mathbf{x}$ = $[$ danceability, key, valence, tempo $]^\\top$\n",
        "- Model B $~~~~~~~~~~~$  $\\mathbf{x}$ = $[$ danceability, loudness, acousticness, instrumentalness $]^\\top$\n",
        "- Model C $~~~~~~~~~~~$ $\\mathbf{x}$ = $[$ key, liveness, valence, tempo $]^\\top$\n",
        "\n",
        "Train these models using your logistic regression implementation and determine the best performing model using the AUC metric."
      ]
    },
    {
      "cell_type": "code",
      "execution_count": 6,
      "metadata": {},
      "outputs": [
        {
          "name": "stdout",
          "output_type": "stream",
          "text": [
            "AUC:  0.66472319\n"
          ]
        },
        {
          "data": {
            "image/png": "[encoded data removed]",
            "text/plain": [
              "<Figure size 432x288 with 1 Axes>"
            ]
          },
          "metadata": {
            "needs_background": "light"
          },
          "output_type": "display_data"
        }
      ],
      "source": [
        "train_X, train_y = prepare_dataset(train_dataset_pd, cols=[\"danceability\", \"key\", \"valence\", \"tempo\"])\n",
        "test_X, test_y = prepare_dataset(test_dataset_pd, cols=[\"danceability\", \"key\", \"valence\", \"tempo\"])\n",
        "\n",
        "epochs = 250\n",
        "lr = 0.1\n",
        "w, losses = fit(epochs, lr, train_X, train_y)\n",
        "\n",
        "\n",
        "predictions = predict(test_X, w)\n",
        "class_predictions = threshold_predictions(predictions, 0.5)\n",
        "\n",
        "fp, tp, auc = compute_ROC(predictions, test_y)\n",
        "plt.plot(fp, tp)\n",
        "plt.title(\"ROC\")\n",
        "plt.xlabel(\"False Positive Rate\")\n",
        "plt.ylabel(\"True Positive Rate\")\n",
        "\n",
        "print(\"AUC: \", auc)"
      ]
    },
    {
      "cell_type": "code",
      "execution_count": 7,
      "metadata": {},
      "outputs": [
        {
          "name": "stdout",
          "output_type": "stream",
          "text": [
            "AUC:  0.887522775\n"
          ]
        },
        {
          "data": {
            "image/png": "[encoded data removed]",
            "text/plain": [
              "<Figure size 432x288 with 1 Axes>"
            ]
          },
          "metadata": {
            "needs_background": "light"
          },
          "output_type": "display_data"
        }
      ],
      "source": [
        "train_X, train_y = prepare_dataset(train_dataset_pd, cols=[\"danceability\", \"loudness\", \"acousticness\", \"instrumentalness\"])\n",
        "test_X, test_y = prepare_dataset(test_dataset_pd, cols=[\"danceability\", \"loudness\", \"acousticness\", \"instrumentalness\"])\n",
        "\n",
        "epochs = 250\n",
        "lr = 0.1\n",
        "w, losses = fit(epochs, lr, train_X, train_y)\n",
        "\n",
        "\n",
        "predictions = predict(test_X, w)\n",
        "class_predictions = threshold_predictions(predictions, 0.5)\n",
        "\n",
        "fp, tp, auc = compute_ROC(predictions, test_y)\n",
        "plt.plot(fp, tp)\n",
        "plt.title(\"ROC\")\n",
        "plt.xlabel(\"False Positive Rate\")\n",
        "plt.ylabel(\"True Positive Rate\")\n",
        "\n",
        "print(\"AUC: \", auc)"
      ]
    },
    {
      "cell_type": "code",
      "execution_count": 8,
      "metadata": {},
      "outputs": [
        {
          "name": "stdout",
          "output_type": "stream",
          "text": [
            "AUC:  0.5820567649999999\n"
          ]
        },
        {
          "data": {
            "image/png": "[encoded data removed]",
            "text/plain": [
              "<Figure size 432x288 with 1 Axes>"
            ]
          },
          "metadata": {
            "needs_background": "light"
          },
          "output_type": "display_data"
        }
      ],
      "source": [
        "train_X, train_y = prepare_dataset(train_dataset_pd, cols=[\"key\", \"liveness\", \"valence\", \"tempo\"])\n",
        "test_X, test_y = prepare_dataset(test_dataset_pd, cols=[\"key\", \"liveness\", \"valence\", \"tempo\"])\n",
        "\n",
        "epochs = 250\n",
        "lr = 0.1\n",
        "w, losses = fit(epochs, lr, train_X, train_y)\n",
        "\n",
        "\n",
        "predictions = predict(test_X, w)\n",
        "class_predictions = threshold_predictions(predictions, 0.5)\n",
        "\n",
        "fp, tp, auc = compute_ROC(predictions, test_y)\n",
        "plt.plot(fp, tp)\n",
        "plt.title(\"ROC\")\n",
        "plt.xlabel(\"False Positive Rate\")\n",
        "plt.ylabel(\"True Positive Rate\")\n",
        "\n",
        "print(\"AUC: \", auc)"
      ]
    }
  ],
  "metadata": {
    "kernel_info": {
      "name": "python3"
    },
    "kernelspec": {
      "display_name": "Python 3.9.7 ('hiwi')",
      "language": "python",
      "name": "python3"
    },
    "language_info": {
      "codemirror_mode": {
        "name": "ipython",
        "version": 3
      },
      "file_extension": ".py",
      "mimetype": "text/x-python",
      "name": "python",
      "nbconvert_exporter": "python",
      "pygments_lexer": "ipython3",
      "version": "3.9.7"
    },
    "nteract": {
      "version": "0.15.0"
    },
    "vscode": {
      "interpreter": {
        "hash": "19846c0218a9ea64b89a4165b9c3f03bfe541eed4f6fb8d9f61728a66344544c"
      }
    }
  },
  "nbformat": 4,
  "nbformat_minor": 2
}
